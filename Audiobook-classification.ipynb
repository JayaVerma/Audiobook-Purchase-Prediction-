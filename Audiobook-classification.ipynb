{
 "cells": [
  {
   "cell_type": "markdown",
   "id": "09c2381c",
   "metadata": {},
   "source": [
    "# Problem statement: \n",
    "## create a machine learning algorithm that can predict if a customer will buy again\n",
    "\n",
    "These data is given data from an Audiobook App. Logically, it relates to the audio versions of books ONLY. Each customer in the database has made a purchase at least once, that's why he/she is in the database. We want to create a machine learning algorithm based on our available data that can predict if a customer will buy again from the Audiobook company.\n",
    "\n",
    "The main idea is that if a customer has a low probability of coming back, there is no reason to spend any money on advertising to him/her. If we can focus our efforts SOLELY on customers that are likely to convert again, we can make great savings. Moreover, this model can identify the most important metrics for a customer to come back again. Identifying new customers creates value and growth opportunities.\n",
    "\n",
    "Here we have a .csv summarizing the data. There are several variables: Customer ID, ), Book length overall (sum of the minute length of all purchases), Book length avg (average length in minutes of all purchases), Price paid_overall (sum of all purchases) ,Price Paid avg (average of all purchases), Review (a Boolean variable whether the customer left a review), Review out of 10 (if the customer left a review, his/her review out of 10, Total minutes listened, Completion (from 0 to 1), Support requests (number of support requests; everything from forgotten password to assistance for using the App), and Last visited minus purchase date (in days).\n",
    "\n",
    "These are the inputs (excluding customer ID, as it is completely arbitrary. It's more like a name, than a number).\n",
    "\n",
    "The targets are a Boolean variable (0 or 1). We are taking a period of 2 years in our inputs, and the next 6 months as targets. So, in fact, we are predicting if: based on the last 2 years of activity and engagement, a customer will convert in the next 6 months. 6 months sounds like a reasonable time. If they don't convert after 6 months, chances are they've gone to a competitor or didn't like the Audiobook way of digesting information. \n",
    "\n",
    "The task is simple: create a machine learning algorithm, which is able to predict if a customer will buy again. \n",
    "\n",
    "This is a classification problem with two classes: won't buy and will buy, represented by 0s and 1s. \n"
   ]
  },
  {
   "cell_type": "markdown",
   "id": "a6fbe724",
   "metadata": {},
   "source": [
    "### classification problem - supervise learning\n",
    "\n",
    "### action plan\n",
    "1. preprocess the data\n",
    " - balance the dataset\n",
    " - divide the dataset in training, validation, testing\n",
    " - save the data in a tensor friendly format - .npz\n",
    "2. create machine learning algorithm\n"
   ]
  },
  {
   "cell_type": "markdown",
   "id": "86c58a44",
   "metadata": {},
   "source": [
    "# Load data and Preprocessing"
   ]
  },
  {
   "cell_type": "code",
   "execution_count": 30,
   "id": "0ab51e82",
   "metadata": {},
   "outputs": [],
   "source": [
    "## import the libraries\n",
    "\n",
    "import numpy as np\n",
    "from sklearn import preprocessing\n"
   ]
  },
  {
   "cell_type": "code",
   "execution_count": 31,
   "id": "199cd265",
   "metadata": {},
   "outputs": [],
   "source": [
    "## LOADING THE CSV FILE\n",
    "raw_csv_data = np.loadtxt('Audiobooks_data.csv', delimiter=',')"
   ]
  },
  {
   "cell_type": "code",
   "execution_count": 32,
   "id": "2c8598c4",
   "metadata": {},
   "outputs": [],
   "source": [
    "unscaled_inputs_all = raw_csv_data[:, 1:-1]\n",
    "targets_all = raw_csv_data[:, -1]"
   ]
  },
  {
   "cell_type": "code",
   "execution_count": 33,
   "id": "a2fe21c3",
   "metadata": {},
   "outputs": [],
   "source": [
    "## BALANCING THE DATASET\n",
    "num_one_targets = int(np.sum(targets_all))\n",
    "zero_targets_counter = 0\n",
    "indices_to_remove = []\n",
    "\n",
    "for i in range(targets_all.shape[0]):\n",
    "    if targets_all[i]==0:\n",
    "        zero_targets_counter+=1\n",
    "        if zero_targets_counter > num_one_targets:\n",
    "            indices_to_remove.append(i)"
   ]
  },
  {
   "cell_type": "code",
   "execution_count": 36,
   "id": "dfaf08b2",
   "metadata": {},
   "outputs": [],
   "source": [
    "unscaled_inputs_equal_priors = np.delete(unscaled_inputs_all, indices_to_remove, axis=0)\n",
    "targets_equal_priors = np.delete(targets_all, indices_to_remove, axis=0)"
   ]
  },
  {
   "cell_type": "code",
   "execution_count": 37,
   "id": "eb898705",
   "metadata": {},
   "outputs": [],
   "source": [
    "## STANDARDIZE THE INPUTS\n",
    "\n",
    "scaled_inputs = preprocessing.scale(unscaled_inputs_equal_priors)"
   ]
  },
  {
   "cell_type": "code",
   "execution_count": 40,
   "id": "298e7689",
   "metadata": {},
   "outputs": [],
   "source": [
    "## shuffle the data\n",
    "\n",
    "shuffles_indices = np.arange(scaled_inputs.shape[0])\n",
    "np.random.shuffle(shuffles_indices)\n",
    "\n",
    "shuffled_inputs = scaled_inputs[shuffles_indices]\n",
    "shuffled_targets = targets_equal_priors[shuffles_indices]"
   ]
  },
  {
   "cell_type": "code",
   "execution_count": 41,
   "id": "6cc66b7c",
   "metadata": {},
   "outputs": [],
   "source": [
    "## spilt the data set into train, validate, test\n",
    "\n",
    "sample_count = shuffled_inputs.shape[0]\n",
    "train_sample_count = int(0.8*sample_count)\n",
    "validation_sample_count = int(0.1*sample_count)\n",
    "test_sample_count = sample_count - train_sample_count - validation_sample_count"
   ]
  },
  {
   "cell_type": "code",
   "execution_count": 42,
   "id": "bce42fdb",
   "metadata": {},
   "outputs": [],
   "source": [
    "train_inputs = shuffled_inputs[:train_sample_count]\n",
    "train_targets = shuffled_targets[:train_sample_count]\n",
    "\n",
    "validation_inputs = shuffled_inputs[train_sample_count:train_sample_count+validation_sample_count]\n",
    "validation_targets = shuffled_targets[train_sample_count:train_sample_count+validation_sample_count]\n",
    "\n",
    "test_inputs = shuffled_inputs[train_sample_count+validation_sample_count:]\n",
    "test_targets = shuffled_targets[train_sample_count+validation_sample_count:]"
   ]
  },
  {
   "cell_type": "code",
   "execution_count": 43,
   "id": "bf4149d6",
   "metadata": {},
   "outputs": [
    {
     "name": "stdout",
     "output_type": "stream",
     "text": [
      "1798.0 3579 0.502374965074043\n",
      "216.0 447 0.48322147651006714\n",
      "223.0 448 0.49776785714285715\n"
     ]
    }
   ],
   "source": [
    "print(np.sum(train_targets), train_sample_count, np.sum(train_targets)/train_sample_count)\n",
    "print(np.sum(validation_targets), validation_sample_count, np.sum(validation_targets)/validation_sample_count)\n",
    "print(np.sum(test_targets), test_sample_count, np.sum(test_targets)/test_sample_count)"
   ]
  },
  {
   "cell_type": "code",
   "execution_count": 44,
   "id": "abc82667",
   "metadata": {},
   "outputs": [],
   "source": [
    "##  SAVE THE THREE DATA SET INTO .NPZ\n",
    "\n",
    "np.savez('Audiobooks_data_train', inputs = train_inputs, targets= train_targets)\n",
    "np.savez('Audiobooks_data_validation', inputs = validation_inputs, targets = validation_targets)\n",
    "np.savez('Audiobooks_data_test', inputs=test_inputs, targets = test_targets)"
   ]
  },
  {
   "cell_type": "code",
   "execution_count": null,
   "id": "dc24f27a",
   "metadata": {},
   "outputs": [],
   "source": []
  },
  {
   "cell_type": "markdown",
   "id": "ac2bc5f8",
   "metadata": {},
   "source": [
    "# Create Machine Learning algorithm"
   ]
  },
  {
   "cell_type": "code",
   "execution_count": 45,
   "id": "7ccc73b4",
   "metadata": {},
   "outputs": [],
   "source": [
    "## import libraries\n",
    "\n",
    "import tensorflow as tf"
   ]
  },
  {
   "cell_type": "code",
   "execution_count": 71,
   "id": "1decd708",
   "metadata": {},
   "outputs": [
    {
     "name": "stdout",
     "output_type": "stream",
     "text": [
      "Epoch 1/100\n",
      "36/36 - 0s - loss: 0.5134 - accuracy: 0.7334 - val_loss: 0.4237 - val_accuracy: 0.7942 - 498ms/epoch - 14ms/step\n",
      "Epoch 2/100\n",
      "36/36 - 0s - loss: 0.4095 - accuracy: 0.7896 - val_loss: 0.3786 - val_accuracy: 0.8098 - 67ms/epoch - 2ms/step\n",
      "Epoch 3/100\n",
      "36/36 - 0s - loss: 0.3785 - accuracy: 0.7966 - val_loss: 0.3806 - val_accuracy: 0.7740 - 57ms/epoch - 2ms/step\n",
      "Epoch 4/100\n",
      "36/36 - 0s - loss: 0.3629 - accuracy: 0.8036 - val_loss: 0.3538 - val_accuracy: 0.7987 - 54ms/epoch - 1ms/step\n",
      "Epoch 5/100\n",
      "36/36 - 0s - loss: 0.3529 - accuracy: 0.8069 - val_loss: 0.3451 - val_accuracy: 0.8076 - 58ms/epoch - 2ms/step\n",
      "Epoch 6/100\n",
      "36/36 - 0s - loss: 0.3416 - accuracy: 0.8167 - val_loss: 0.3414 - val_accuracy: 0.7964 - 56ms/epoch - 2ms/step\n",
      "Epoch 7/100\n",
      "36/36 - 0s - loss: 0.3411 - accuracy: 0.8103 - val_loss: 0.3455 - val_accuracy: 0.7875 - 58ms/epoch - 2ms/step\n",
      "Epoch 8/100\n",
      "36/36 - 0s - loss: 0.3346 - accuracy: 0.8226 - val_loss: 0.3323 - val_accuracy: 0.8031 - 56ms/epoch - 2ms/step\n",
      "Epoch 9/100\n",
      "36/36 - 0s - loss: 0.3342 - accuracy: 0.8223 - val_loss: 0.3409 - val_accuracy: 0.8233 - 59ms/epoch - 2ms/step\n",
      "Epoch 10/100\n",
      "36/36 - 0s - loss: 0.3440 - accuracy: 0.8072 - val_loss: 0.3587 - val_accuracy: 0.7897 - 57ms/epoch - 2ms/step\n",
      "Epoch 11/100\n",
      "36/36 - 0s - loss: 0.3335 - accuracy: 0.8159 - val_loss: 0.3287 - val_accuracy: 0.8143 - 58ms/epoch - 2ms/step\n",
      "Epoch 12/100\n",
      "36/36 - 0s - loss: 0.3275 - accuracy: 0.8229 - val_loss: 0.3293 - val_accuracy: 0.8121 - 58ms/epoch - 2ms/step\n",
      "Epoch 13/100\n",
      "36/36 - 0s - loss: 0.3257 - accuracy: 0.8215 - val_loss: 0.3345 - val_accuracy: 0.7942 - 61ms/epoch - 2ms/step\n",
      "Epoch 14/100\n",
      "36/36 - 0s - loss: 0.3255 - accuracy: 0.8198 - val_loss: 0.3365 - val_accuracy: 0.8255 - 55ms/epoch - 2ms/step\n"
     ]
    },
    {
     "data": {
      "text/plain": [
       "<keras.callbacks.History at 0x22dc8491400>"
      ]
     },
     "execution_count": 71,
     "metadata": {},
     "output_type": "execute_result"
    }
   ],
   "source": [
    "## MODEL\n",
    "\n",
    "input_size = 10\n",
    "output_size =2\n",
    "hidden_Layer_size = 100\n",
    "\n",
    "model = tf.keras.Sequential([\n",
    "    tf.keras.layers.Dense(hidden_Layer_size, activation='relu'),\n",
    "    tf.keras.layers.Dense(hidden_Layer_size, activation='relu'),\n",
    "    tf.keras.layers.Dense(output_size, activation='softmax')\n",
    "])\n",
    "\n",
    "model.compile(optimizer='adam', loss='sparse_categorical_crossentropy', metrics=['accuracy'])\n",
    "\n",
    "batchsize = 100\n",
    "max_epochs = 100\n",
    "early_stopping = tf.keras.callbacks.EarlyStopping(patience=3)\n",
    "\n",
    "model.fit(train_inputs,\n",
    "         train_targets,\n",
    "         batch_size=batchsize,\n",
    "         epochs = max_epochs,\n",
    "         callbacks = [early_stopping],\n",
    "         validation_data=(validation_inputs,validation_targets),\n",
    "         verbose=2)"
   ]
  },
  {
   "cell_type": "code",
   "execution_count": 72,
   "id": "55ed8c97",
   "metadata": {},
   "outputs": [
    {
     "name": "stdout",
     "output_type": "stream",
     "text": [
      "14/14 [==============================] - 0s 304us/step - loss: 0.3514 - accuracy: 0.8237\n"
     ]
    }
   ],
   "source": [
    "## TEST MODEL\n",
    "\n",
    "test_loss, test_accuracy = model.evaluate(test_inputs, test_targets)"
   ]
  },
  {
   "cell_type": "code",
   "execution_count": null,
   "id": "3a34a858",
   "metadata": {},
   "outputs": [],
   "source": []
  }
 ],
 "metadata": {
  "kernelspec": {
   "display_name": "Python 3",
   "language": "python",
   "name": "python3"
  },
  "language_info": {
   "codemirror_mode": {
    "name": "ipython",
    "version": 3
   },
   "file_extension": ".py",
   "mimetype": "text/x-python",
   "name": "python",
   "nbconvert_exporter": "python",
   "pygments_lexer": "ipython3",
   "version": "3.8.8"
  }
 },
 "nbformat": 4,
 "nbformat_minor": 5
}
